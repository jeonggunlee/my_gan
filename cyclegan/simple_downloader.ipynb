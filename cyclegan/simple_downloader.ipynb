{
 "cells": [
  {
   "cell_type": "code",
   "execution_count": null,
   "metadata": {},
   "outputs": [],
   "source": [
    "\"https://people.eecs.berkeley.edu/~taesung_park/CycleGAN/datasets/vangogh2photo.zip\""
   ]
  },
  {
   "cell_type": "code",
   "execution_count": 2,
   "metadata": {},
   "outputs": [
    {
     "name": "stderr",
     "output_type": "stream",
     "text": [
      "100%|███████████████████████████████████████████████████████████████▉| 306538496/306590349 [04:43<00:00, 1274183.14B/s]"
     ]
    },
    {
     "name": "stdout",
     "output_type": "stream",
     "text": [
      "vangogh2photo.zip\n"
     ]
    }
   ],
   "source": [
    "from tqdm import tqdm\n",
    "import requests\n",
    "import math\n",
    "import zipfile\n",
    "\n",
    "def download(url,filename):\n",
    "    chunkSize = 1024\n",
    "    r = requests.get(url, stream=True)\n",
    "    with open(filename, 'wb') as f:\n",
    "        pbar = tqdm( unit=\"B\", total=int( r.headers['Content-Length'] ) )\n",
    "        for chunk in r.iter_content(chunk_size=chunkSize): \n",
    "            if chunk:\n",
    "                pbar.update (len(chunk))\n",
    "                f.write(chunk)\n",
    "    return filename\n",
    "\n",
    "def upzip(filename,path):\n",
    "    with zipfile.ZipFile(filename,'r') as zf:\n",
    "        zf.extractall(path=path)\n",
    "        zf.close()\n",
    "\n",
    "url = \"https://people.eecs.berkeley.edu/~taesung_park/CycleGAN/datasets/vangogh2photo.zip\"\n",
    "filename = url.split(\"/\")[-1]\n",
    "\n",
    "fn = download(url,filename)\n",
    "upzip(fn,'.')\n"
   ]
  },
  {
   "cell_type": "code",
   "execution_count": 6,
   "metadata": {},
   "outputs": [
    {
     "name": "stdout",
     "output_type": "stream",
     "text": [
      "vangogh2photo.zip\n"
     ]
    }
   ],
   "source": [
    "r = \"https://people.eecs.berkeley.edu/~taesung_park/CycleGAN/datasets/vangogh2photo.zip\"\n",
    "print(r.split(\"/\")[-1])"
   ]
  },
  {
   "cell_type": "code",
   "execution_count": 3,
   "metadata": {},
   "outputs": [
    {
     "name": "stderr",
     "output_type": "stream",
     "text": [
      "\r",
      "100%|████████████████████████████████████████████████████████████████| 306590349/306590349 [05:00<00:00, 1274183.14B/s]"
     ]
    }
   ],
   "source": [
    "def upzip(filename,path):\n",
    "    with zipfile.ZipFile(filename,'r') as zf:\n",
    "        zf.extractall(path=path)\n",
    "        zf.close()\n",
    "        \n",
    "upzip(fn,'.')"
   ]
  },
  {
   "cell_type": "code",
   "execution_count": null,
   "metadata": {},
   "outputs": [],
   "source": []
  }
 ],
 "metadata": {
  "kernelspec": {
   "display_name": "Python 3",
   "language": "python",
   "name": "python3"
  },
  "language_info": {
   "codemirror_mode": {
    "name": "ipython",
    "version": 3
   },
   "file_extension": ".py",
   "mimetype": "text/x-python",
   "name": "python",
   "nbconvert_exporter": "python",
   "pygments_lexer": "ipython3",
   "version": "3.5.3"
  }
 },
 "nbformat": 4,
 "nbformat_minor": 2
}
