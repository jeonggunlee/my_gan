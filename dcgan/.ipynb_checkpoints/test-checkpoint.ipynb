{
 "cells": [
  {
   "cell_type": "code",
   "execution_count": null,
   "metadata": {},
   "outputs": [],
   "source": [
    "#test code\n",
    "# Generate images from noise, using the generator network.\n",
    "f, a = plt.subplots(4, 10, figsize=(10, 4))\n",
    "for i in range(10):\n",
    "    # Noise input.\n",
    "    z = np.random.uniform(-1., 1., size=[4, noise_dim])\n",
    "    g = sess.run(gen_sample, feed_dict={noise_input: z})\n",
    "    for j in range(4):\n",
    "        # Generate image from noise. Extend to 3 channels for matplot figure.\n",
    "        img = np.reshape(np.repeat(g[j][:, :, np.newaxis], 3, axis=2),\n",
    "                         newshape=(28, 28, 3))\n",
    "        a[j][i].imshow(img)"
   ]
  },
  {
   "cell_type": "code",
   "execution_count": null,
   "metadata": {},
   "outputs": [],
   "source": [
    "#test code\n",
    "if step == 0 or (step + 1) % 10 == 0:\n",
    "    generated_samples = model.sample_generator(noise_test, batch_size=visualization_num)\n",
    "    savepath = output_dir + '/output_' + 'EP' + str(epoch).zfill(3) + \"_Batch\" + str(step).zfill(6) + '.jpg'\n",
    "    save_visualization(generated_samples, (14, 14), save_path=savepath)"
   ]
  }
 ],
 "metadata": {
  "kernelspec": {
   "display_name": "Python 3",
   "language": "python",
   "name": "python3"
  },
  "language_info": {
   "codemirror_mode": {
    "name": "ipython",
    "version": 3
   },
   "file_extension": ".py",
   "mimetype": "text/x-python",
   "name": "python",
   "nbconvert_exporter": "python",
   "pygments_lexer": "ipython3",
   "version": "3.5.3"
  }
 },
 "nbformat": 4,
 "nbformat_minor": 2
}
