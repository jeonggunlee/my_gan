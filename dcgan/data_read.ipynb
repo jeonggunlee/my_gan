{
 "cells": [
  {
   "cell_type": "code",
   "execution_count": 79,
   "metadata": {},
   "outputs": [],
   "source": [
    "import cv2\n",
    "import os\n",
    "import numpy as np\n",
    "import random\n",
    "\n",
    "class reader:\n",
    "    def __init__(self, dir_name, batch_size, resize):\n",
    "        self.dir_name = dir_name\n",
    "        self.batch_size = batch_size\n",
    "        #file list\n",
    "        self.file_list = os.listdir(self.dir_name)\n",
    "        #total batch num\n",
    "        self.leng = len(self.file_list)\n",
    "        self.total_batch = self.leng // self.batch_size\n",
    "        #index\n",
    "        self.index = np.arange(1,self.leng + 1)\n",
    "        \n",
    "    \n",
    "    def getList(self):\n",
    "        return self.file_list\n",
    "    \n",
    "    def getTotalNum(self):\n",
    "        return len(self.file_list)\n",
    "    \n",
    "    def next_batch(self):\n",
    "        #image random choice\n",
    "        np.random.shuffle(self.index)\n",
    "        #init\n",
    "        batch = np.array([self.index[:32]])\n",
    "        start = 32\n",
    "        \n",
    "        '''for i in range(1,self.total_batch + 1): \n",
    "            batch = np.append(batch ,np.reshape(self.index[start:start+32],(-1,32)) ,axis=0)\n",
    "            \n",
    "            start += 32\n",
    "            if start + 32 > self.leng:\n",
    "                print(start)\n",
    "                break'''\n",
    "        \n",
    "        batch = np.reshape(self.index[:self.total_batch*32],(-1,32))\n",
    "        \n",
    "        \n",
    "        return batch.shape"
   ]
  },
  {
   "cell_type": "code",
   "execution_count": 80,
   "metadata": {},
   "outputs": [
    {
     "name": "stdout",
     "output_type": "stream",
     "text": [
      "202599.jpg\n",
      "202592\n",
      "(6331, 32)\n"
     ]
    }
   ],
   "source": [
    "r = reader('C:/Users/JM/Git_store/celebA',32,1)\n",
    "\n",
    "print(r.file_list[-1])\n",
    "print(r.total_batch*32)\n",
    "print(r.next_batch())"
   ]
  },
  {
   "cell_type": "code",
   "execution_count": 126,
   "metadata": {},
   "outputs": [
    {
     "name": "stdout",
     "output_type": "stream",
     "text": [
      "32\n"
     ]
    }
   ],
   "source": [
    "a = np.arange(1,6331)[:32]\n",
    "print(len(a))"
   ]
  },
  {
   "cell_type": "code",
   "execution_count": 119,
   "metadata": {},
   "outputs": [
    {
     "name": "stdout",
     "output_type": "stream",
     "text": [
      "[[0 1 2]\n",
      " [1 2 3]]\n"
     ]
    }
   ],
   "source": [
    "a = np.array([[0,1,2]])\n",
    "a = np.append(a,[[1,2,3]],axis=0)\n",
    "\n",
    "print(a)"
   ]
  },
  {
   "cell_type": "code",
   "execution_count": 51,
   "metadata": {},
   "outputs": [
    {
     "name": "stdout",
     "output_type": "stream",
     "text": [
      "[[1 2]\n",
      " [3 4]\n",
      " [5 6]\n",
      " [7 8]]\n"
     ]
    }
   ],
   "source": [
    "b = np.array([1,2,3,4,5,6,7,8,9])\n",
    "print(np.reshape(b[:-1],(-1,2)))"
   ]
  },
  {
   "cell_type": "code",
   "execution_count": null,
   "metadata": {},
   "outputs": [],
   "source": [
    "np.random.shuffle(1)"
   ]
  }
 ],
 "metadata": {
  "kernelspec": {
   "display_name": "Python 3",
   "language": "python",
   "name": "python3"
  },
  "language_info": {
   "codemirror_mode": {
    "name": "ipython",
    "version": 3
   },
   "file_extension": ".py",
   "mimetype": "text/x-python",
   "name": "python",
   "nbconvert_exporter": "python",
   "pygments_lexer": "ipython3",
   "version": "3.5.3"
  }
 },
 "nbformat": 4,
 "nbformat_minor": 2
}
